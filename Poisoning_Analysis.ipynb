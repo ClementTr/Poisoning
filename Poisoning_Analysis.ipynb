{
 "cells": [
  {
   "cell_type": "markdown",
   "metadata": {
    "collapsed": true,
    "deletable": true,
    "editable": true
   },
   "source": [
    "<p><p><font size=5 color=\"#5A5A5A\" face = \"Lano\"><center>How did you become <b><font size=5 color=\"#FCAC45\" face = \"Lano\">sick</font></b> ?</center></font><p>\n",
    "<br>\n",
    "<br>\n",
    "<font size=3 color=\"#5A5A5A\" face = \"Lano\"><B><u><font size=5 color=\"#FCAC45\" face = \"Lano\">Summary</font></u></B></font><br><br>\n",
    "<font size=3.2 color=\"#5A5A5A\" face = \"Lano\">\n",
    "  <b>I</b> - Data Introduction<br>\n",
    "&nbsp;&nbsp;&nbsp;<b>A</b> - First taking of information<br>\n",
    "&nbsp;&nbsp;&nbsp;<b>B</b> - Data Cleaning<br>\n",
    "  <b>II</b> - Machine Learning Algorithms<br>\n",
    "&nbsp;&nbsp;&nbsp;<b>A</b> - Random Forest<br>\n",
    "&nbsp;&nbsp;&nbsp;&nbsp;&nbsp;&nbsp;<b>a</b>. Location & Date<br>\n",
    "&nbsp;&nbsp;&nbsp;&nbsp;&nbsp;&nbsp;<b>b</b>. Food & Place<br>\n",
    "&nbsp;&nbsp;&nbsp;<b>B</b> - Decision Tree<br>\n",
    "</font>\n",
    "<br>\n",
    "<br>\n",
    "<B>\n",
    "<br>\n",
    "<font size=4 color=\"#FCAC45\" face = \"Lano\">\n",
    "PART I: \n",
    "<font size=4 color =\"#5A5A5A\" face = \"Lano\">\n",
    "DATA INTRODUCTION\n",
    "</font>\n",
    "</font>\n",
    "</B>\n",
    "<br>\n",
    "<br>\n",
    "<font size=4 color =\"#5A5A5A\" face = \"Lano\"><b><font size=4 color=\"#FCAC45\" face = \"Lano\">I. A -</font> First Taking of Information</b></font>\n",
    "<br>\n",
    "<br>\n",
    "<font color=\"#5A5A5A\" size=\"3.2\" face = \"Lano\">\n",
    "We want to know what are the factors which cause an hospitalization after eating.<br> \n",
    "First we load our data and show the original length.<br>\n",
    "Then we display the 5 first lines of our dataframe in order to know the content of our base \n",
    "</font>"
   ]
  },
  {
   "cell_type": "code",
   "execution_count": null,
   "metadata": {
    "collapsed": false,
    "deletable": true,
    "editable": true
   },
   "outputs": [],
   "source": [
    "import pandas as pd\n",
    "import numpy as np\n",
    "from os import path\n",
    "\n",
    "#Create first dataframe from poisoning.csv file\n",
    "poisoning_df = pd.read_csv(\"data/poisoning.csv\", sep=',')\n",
    "print(\"poisoning.csv size :\", len(poisoning_df))\n",
    "\n",
    "poisoning_df.head()"
   ]
  },
  {
   "cell_type": "markdown",
   "metadata": {
    "deletable": true,
    "editable": true
   },
   "source": [
    "<p><font size=4 color =\"#5A5A5A\" face = \"Lano\"><b><font size=4 color=\"#FCAC45\" face = \"Lano\">I. B -</font> Data Cleaning</b></font></p>\n",
    "<font color=\"#5A5A5A\" size=\"3.2\" face = \"Lano\">\n",
    "We can now delete unused columns like years. We consider month could be important depending of epidemics<br>\n",
    "Furthermore, we will delete \"Fatalities\" and \"Illnesses\" columns which are directly linked to our target column \"Hospitalization\" and which could falsified our prediction.\n",
    "</font>"
   ]
  },
  {
   "cell_type": "code",
   "execution_count": null,
   "metadata": {
    "collapsed": false,
    "deletable": true,
    "editable": true
   },
   "outputs": [],
   "source": [
    "del poisoning_df[\"Fatalities\"] \n",
    "del poisoning_df[\"Illnesses\"] "
   ]
  },
  {
   "cell_type": "markdown",
   "metadata": {
    "deletable": true,
    "editable": true
   },
   "source": [
    "<font color=\"#5A5A5A\" size=\"3.2\" face = \"Lano\">\n",
    "Now we deleted unused columns, we can take a look at our target column which is naturally \"Hospitalization\".<br>\n",
    "We will first check if our column contains NaN value.\n",
    "</font>"
   ]
  },
  {
   "cell_type": "code",
   "execution_count": null,
   "metadata": {
    "collapsed": false,
    "deletable": true,
    "editable": true
   },
   "outputs": [],
   "source": [
    "print(\"Hospitalizations NA:\", pd.isnull(poisoning_df.Hospitalizations).values.any())"
   ]
  },
  {
   "cell_type": "markdown",
   "metadata": {
    "deletable": true,
    "editable": true
   },
   "source": [
    "<font color=\"#5A5A5A\" size=\"3.2\" face = \"Lano\">\n",
    "As target value cannot be NaN and as we can't replace NaN by mean or something else we will delete every Hospitalization lines containing NaN.<br>\n",
    "We don't do dropna because we want to keep some information in other lines.<br>\n",
    "Then we will globalize our target in two value, either their is Hospitalization: 1 or not: 0.<br>\n",
    "We will display the new length of our dataframe.\n",
    "</font>"
   ]
  },
  {
   "cell_type": "code",
   "execution_count": null,
   "metadata": {
    "collapsed": false,
    "deletable": true,
    "editable": true
   },
   "outputs": [],
   "source": [
    "poisoning_df = poisoning_df[np.isfinite(poisoning_df['Hospitalizations'])]\n",
    "poisoning_df['Hospitalizations_Global'] = np.where(poisoning_df.Hospitalizations > 0, 1, 0)\n",
    "print(\"Hospitalization value count:\")\n",
    "print(poisoning_df.Hospitalizations_Global.value_counts())\n",
    "print(\"\\nNew size poisoning_df:\", len(poisoning_df))"
   ]
  },
  {
   "cell_type": "markdown",
   "metadata": {
    "deletable": true,
    "editable": true
   },
   "source": [
    "<font color=\"#5A5A5A\" size=\"3.2\" face = \"Lano\">\n",
    "We will begin by work on columns which are easily workable. <br>\n",
    "So we will create a 'Season' column according to the months in order to have less group for our Random Forest and knowing that in term of bacteria and virus, January and February are close.<br>\n",
    "We don't forget to create a column encoded that we will use after for our Random Forest.\n",
    "</font>"
   ]
  },
  {
   "cell_type": "code",
   "execution_count": null,
   "metadata": {
    "collapsed": true,
    "deletable": true,
    "editable": true
   },
   "outputs": [],
   "source": [
    "def detect_season(df):\n",
    "  season = df.Month\n",
    "  if (season == \"January\") | (season == \"February\") | (season == \"March\"):\n",
    "    return 0\n",
    "  if (season == \"April\") | (season == \"May\") | (season == \"June\"):\n",
    "    return 1\n",
    "  if (season == \"July\") | (season == \"August\") | (season == \"September\"):\n",
    "    return 2\n",
    "  else:\n",
    "    return 3\n",
    "\n",
    "poisoning_df[\"Season\"] = poisoning_df.apply(detect_season, axis=1)"
   ]
  },
  {
   "cell_type": "markdown",
   "metadata": {
    "deletable": true,
    "editable": true
   },
   "source": [
    "<font color=\"#5A5A5A\" size=\"3.2\" face = \"Lano\">\n",
    "Having do that we will do almost the same with States.<br>\n",
    "The idea is to search on internet which are the states producing the most food, supposing that it import less and keep a good food quality.<br>\n",
    "We will do exactly the same with fishing, repertoring states bordering the sea.\n",
    "</font>"
   ]
  },
  {
   "cell_type": "code",
   "execution_count": null,
   "metadata": {
    "collapsed": false,
    "deletable": true,
    "editable": true
   },
   "outputs": [],
   "source": [
    "def detect_producer(df):\n",
    "  state = df.State\n",
    "  #results found on http://beef2live.com/story-states-produce-food-value-0-107252\n",
    "  if ((state == \"California\") | (state == \"Iwoa\") | (state == \"Nebraska\") \n",
    "      | (state == \"Texas\") | (state == \"Minnesota\")):\n",
    "    return 1\n",
    "  else:\n",
    "    return 0\n",
    "\n",
    "def detect_fishing(df):\n",
    "  state = df.State\n",
    "  #results found on https://en.wikipedia.org/wiki/Fishing_industry_in_the_United_States\n",
    "  if ((state == \"California\") | (state == \"Oregon\") | (state == \"Washington\") \n",
    "      | (state == \"Texas\") | (state == \"Louisiana\") | (state == \"Mississippi\")| \n",
    "      (state == \"North Carolina\") | (state == \"South Carolina\") | \n",
    "      (state == \"Georgia\")| (state == \"Virgina\") | (state == \"Maine\") | \n",
    "      (state == \"Maryland\") | (state == \"Michigan\")| (state == \"Wisconsin\") | \n",
    "      (state == \"Alaska\")):\n",
    "    return 1\n",
    "  else:\n",
    "    return 0\n",
    "\n",
    "poisoning_df[\"ProducerState\"] = poisoning_df.apply(detect_producer, axis=1)\n",
    "poisoning_df[\"FishingState\"] = poisoning_df.apply(detect_fishing, axis=1)\n",
    "\n",
    "#Encode the state.\n",
    "from sklearn import preprocessing\n",
    "label_encoder = preprocessing.LabelEncoder()\n",
    "poisoning_df[\"StateEncoder\"] = label_encoder.fit_transform(poisoning_df[\"State\"])"
   ]
  },
  {
   "cell_type": "markdown",
   "metadata": {
    "deletable": true,
    "editable": true
   },
   "source": [
    "<font color=\"#5A5A5A\" size=\"3.2\" face = \"Lano\">\n",
    "Earlier we have seen that the \"Location\" column contains a lot of different values.<br>\n",
    "The first thing we will do is to display the 50 most used values in this columns.\n",
    "</font>"
   ]
  },
  {
   "cell_type": "code",
   "execution_count": null,
   "metadata": {
    "collapsed": false,
    "deletable": true,
    "editable": true
   },
   "outputs": [],
   "source": [
    "LocValue = poisoning_df.Location.value_counts()\n",
    "n = range(50)\n",
    "\n",
    "for i in n: #Display 50 most used values in Location\n",
    "  print(LocValue[[i]], \"\\n\")"
   ]
  },
  {
   "cell_type": "markdown",
   "metadata": {
    "deletable": true,
    "editable": true
   },
   "source": [
    "<font color=\"#5A5A5A\" size=\"3.2\" face = \"Lano\">\n",
    "As we can see, there is a lot of different values in this column.<br>\n",
    "For example, we can see that the most used location is \"Restaurant\" and we can see that this word is present in many other raws like \"Fast Food Restaurant\" or \"Restaurant; Private Home/Residence\".<br>\n",
    "Our work will be to create a column \"Restaurant\" indicating if the restaurant word is present or not in the raw.<br>\n",
    "<br>\n",
    "\n",
    "First we will put every words in lower letters in order to avoid the casse.<br>\n",
    "Secondly we will extract all 'restaurant' words in the 'Location' column. The \"isRestaurant\" column will have either NaN value or \"restaurant\" if Location contains 'restaurant'.<br>\n",
    "Thirdly we just remplace NaN values by 'NO' in uppercase in order to have the same encoding for every columns.\n",
    "</font>"
   ]
  },
  {
   "cell_type": "code",
   "execution_count": null,
   "metadata": {
    "collapsed": false,
    "deletable": true,
    "editable": true
   },
   "outputs": [],
   "source": [
    "poisoning_df.Location = poisoning_df.Location.str.lower()\n",
    "poisoning_df[\"isRestaurant\"] = poisoning_df.Location.str.extract('.*(restaurant).*', expand=False).str.strip()\n",
    "poisoning_df[\"isRestaurant\"] = poisoning_df[\"isRestaurant\"].fillna(\"NO\")"
   ]
  },
  {
   "cell_type": "markdown",
   "metadata": {
    "deletable": true,
    "editable": true
   },
   "source": [
    "<font color=\"#5A5A5A\" size=\"3.2\" face = \"Lano\">\n",
    "Fourth we will encode our value 1 if it is a restaurant, otherwise (NO) 0.\n",
    "</font>"
   ]
  },
  {
   "cell_type": "code",
   "execution_count": null,
   "metadata": {
    "collapsed": false,
    "deletable": true,
    "editable": true
   },
   "outputs": [],
   "source": [
    "poisoning_df[\"isRestaurant\"] = label_encoder.fit_transform(poisoning_df[\"isRestaurant\"])\n",
    "poisoning_df.head()"
   ]
  },
  {
   "cell_type": "markdown",
   "metadata": {
    "collapsed": false,
    "deletable": true,
    "editable": true
   },
   "source": [
    "<font color=\"#5A5A5A\" size=\"3.2\" face = \"Lano\">\n",
    "We created a magic function efficient for each column we will choose and for each word we will want.<br>\n",
    "Having the column name \"isXx\" for the word \"xx\"<br>\n",
    "We just have to create a list of columns containing the \"isWord\" we want to find.\n",
    "</font>"
   ]
  },
  {
   "cell_type": "code",
   "execution_count": null,
   "metadata": {
    "collapsed": false,
    "deletable": true,
    "editable": true
   },
   "outputs": [],
   "source": [
    "def create_columns(grepColumn, newColumns):\n",
    "  grepWords = []\n",
    "  for n in newColumns:\n",
    "    n = n.lower()\n",
    "    n = n[2:]\n",
    "    grepWords.append(n)\n",
    "\n",
    "  for n, t in zip(newColumns, grepWords):\n",
    "    poisoning_df[n] = grepColumn.str.extract('.*(' + t +').*', expand=False).str.strip()\n",
    "\n",
    "  for n in newColumns:\n",
    "    poisoning_df[n] = poisoning_df[n].fillna(\"NON\")\n",
    "\n",
    "  for n in newColumns:\n",
    "    poisoning_df[n] = label_encoder.fit_transform(poisoning_df[n])\n",
    "#########END FUNCTION#########\n",
    "\n",
    "newLocationColumn = [\"isRestaurant\",\"isResidence\",\"isHome\",\"isCatering\",\"isFastFood\",\"isBanquet\",\n",
    "                    \"isSchool\",\"isStore\",\"isPrison\",\"isNurse\",\"isCamp\",\"isReligious\",\"isOffice\",\n",
    "                    \"isFestival\",\"isHospital\", \"isFarm\"]\n",
    "\n",
    "poisoning_df.Location = poisoning_df.Location.str.lower()\n",
    "create_columns(poisoning_df.Location, newLocationColumn)"
   ]
  },
  {
   "cell_type": "markdown",
   "metadata": {
    "deletable": true,
    "editable": true
   },
   "source": [
    "<font color=\"#5A5A5A\" size=\"3.2\" face = \"Lano\">\n",
    "Now we can do exactly the same work with Food column.\n",
    "</font>"
   ]
  },
  {
   "cell_type": "code",
   "execution_count": null,
   "metadata": {
    "collapsed": false,
    "deletable": true,
    "editable": true
   },
   "outputs": [],
   "source": [
    "FoodValue = poisoning_df.Food.value_counts()\n",
    "n = range(100)\n",
    "\n",
    "for i in n: #Display 50 most used values in Food\n",
    "  print(FoodValue[[i]], \"\\n\")"
   ]
  },
  {
   "cell_type": "markdown",
   "metadata": {
    "deletable": true,
    "editable": true
   },
   "source": [
    "<font color=\"#5A5A5A\" size=\"3.2\" face = \"Lano\">\n",
    "We will create our column according to the most used values in food.<br>\n",
    "And we can have an idea of what we did by displaying the 5 first rows of our dataframe. \n",
    "</font>"
   ]
  },
  {
   "cell_type": "code",
   "execution_count": null,
   "metadata": {
    "collapsed": false,
    "deletable": true,
    "editable": true
   },
   "outputs": [],
   "source": [
    "newFoodColumn = [\"isOysters\", \"isSalad\", \"isMultiple\", \"isUnspecified\", \"isSandwich\", \"isFish\", \n",
    "                 \"isPork\", \"isChicken\", \"isBbq\", \"isPotato\", \"isTuna\", \"isIce\", \"isDeli\",\n",
    "                \"isPizza\", \"isMeat\", \"isMilk\", \"isCake\", \"isBeef\", \"isRice\", \"isEthnic\", \n",
    "                 \"isColeslaw\", \"isBeans\", \"isFruit\", \"isSushi\", \"isCheeseburger\", \"isEggs\",\n",
    "                \"isSteak\", \"isCantaloupe\", \"isGuacamole\", \"isHam\", \"isTomato\", \"isLettuce\", \n",
    "                 \"isMushrooms\"]   \n",
    "\n",
    "poisoning_df.Food = poisoning_df.Food.str.lower()\n",
    "create_columns(poisoning_df.Food, newFoodColumn)\n",
    "\n",
    "poisoning_df.head()"
   ]
  },
  {
   "cell_type": "markdown",
   "metadata": {
    "deletable": true,
    "editable": true
   },
   "source": [
    "<font color=\"#5A5A5A\" size=\"3.2\" face = \"Lano\">\n",
    "Now, we have all the columns we need to begin our prediction. \n",
    "</font>\n",
    "<br>\n",
    "<br>\n",
    "<B>\n",
    "<br>\n",
    "<font size=4 color=\"#FCAC45\" face = \"Lano\">\n",
    "PART II: \n",
    "<font size=4 color =\"#5A5A5A\" face = \"Lano\">\n",
    "MACHINE LEARNING\n",
    "</font>\n",
    "</font>\n",
    "</B>\n",
    "<br>\n",
    "<br>\n",
    "<font size=4 color =\"#5A5A5A\" face = \"Lano\"><b><font size=4 color=\"#FCAC45\" face = \"Lano\">II. A. a -</font> Random Forest: </b><em>Location & Date</em></font>\n",
    "<br>\n",
    "<br>\n",
    "<font color=\"#5A5A5A\" size=\"3.2\" face = \"Lano\">\n",
    "First, we will make a prediction using Random Forest algorithm on our main initial columns corresponding to location and date. <br>\n",
    "And directly show the result voluntarily. In the next part our approach will be detailed.\n",
    "</font>"
   ]
  },
  {
   "cell_type": "code",
   "execution_count": null,
   "metadata": {
    "collapsed": false,
    "deletable": true,
    "editable": true
   },
   "outputs": [],
   "source": [
    "import numpy as np\n",
    "import matplotlib.pyplot as plt\n",
    "from sklearn.ensemble import RandomForestClassifier as RandomForest\n",
    "from pandas import DataFrame\n",
    "from sklearn.cross_validation import train_test_split\n",
    "\n",
    "target = poisoning_df.Hospitalizations_Global\n",
    "\n",
    "features_without_datacleaning = [\"StateEncoder\", \"Season\", \"Year\"]\n",
    "predictors = poisoning_df[features_without_datacleaning]\n",
    "\n",
    "split = train_test_split(poisoning_df, target, test_size=0.4, random_state=42)\n",
    "data_train, data_test, target_train, target_test = split\n",
    "\n",
    "model = RandomForest(n_estimators=10)\n",
    "model.fit(data_train[features_without_datacleaning], target_train)\n",
    "\n",
    "print(model.score(data_test[features_without_datacleaning], target_test))"
   ]
  },
  {
   "cell_type": "markdown",
   "metadata": {
    "deletable": true,
    "editable": true
   },
   "source": [
    "<font size=4 color =\"#5A5A5A\" face = \"Lano\"><b><font size=4 color=\"#FCAC45\" face = \"Lano\">II. A. b -</font> Random Forest: </b><em>Food & Place</em></font>\n",
    "<br>\n",
    "<br>\n",
    "<font color=\"#5A5A5A\" size=\"3.2\" face = \"Lano\">\n",
    "Now that we have done our prediction over initial data we will do the same with the columns we created for food and place. The idea is to make a prediction more complex over things a person can manage like the food he'll eat and the place he'll go.<br>\n",
    "To do that we recovered in a same list both of location and food columns we created before, as feature.<br>\n",
    "Using the same target we performed a bootstrap (recover 40% 15494->40%->6198 random data of poisoning_df data set) \n",
    "</font>"
   ]
  },
  {
   "cell_type": "code",
   "execution_count": null,
   "metadata": {
    "collapsed": false,
    "deletable": true,
    "editable": true
   },
   "outputs": [],
   "source": [
    "features = []\n",
    "for c, l in zip(newLocationColumn, newFoodColumn):\n",
    "    features.append(c)\n",
    "    features.append(l)\n",
    "\n",
    "predictors = poisoning_df[features]\n",
    "\n",
    "split = train_test_split(poisoning_df, target, test_size=0.4, random_state=42)\n",
    "data_train, data_test, target_train, target_test = split\n",
    "print('full shape:', poisoning_df.shape, '\\ntest shape:', data_test.shape, '\\ntrain shape:', data_train.shape)"
   ]
  },
  {
   "cell_type": "markdown",
   "metadata": {
    "deletable": true,
    "editable": true
   },
   "source": [
    "<font color=\"#5A5A5A\" size=\"3.2\" face = \"Lano\">\n",
    "Once our RandomForest will be performed, we will display the importance of each column.\n",
    "</font>"
   ]
  },
  {
   "cell_type": "code",
   "execution_count": null,
   "metadata": {
    "collapsed": false,
    "deletable": true,
    "editable": true
   },
   "outputs": [],
   "source": [
    "model = RandomForest(n_estimators=10)\n",
    "model.fit(data_train[features], target_train)\n",
    "importances = model.feature_importances_\n",
    "std = np.std([tree.feature_importances_ for tree in model.estimators_], axis=0)\n",
    "\n",
    "for feature, imp, i in zip(features, importances, range(len(features))):\n",
    "    print(\"  %d. %s -> %f\" % (i+1, feature, imp))"
   ]
  },
  {
   "cell_type": "markdown",
   "metadata": {
    "deletable": true,
    "editable": true
   },
   "source": [
    "<font color=\"#5A5A5A\" size=\"3.2\" face = \"Lano\">\n",
    "We create now a dataframe in order to sort the most important feature by score, taking care to keep the error estimation for the plot you will see below.<br>\n",
    "Then from this dataframe, we create another one keeping the 10 most important features.\n",
    "</font>"
   ]
  },
  {
   "cell_type": "code",
   "execution_count": null,
   "metadata": {
    "collapsed": false,
    "deletable": true,
    "editable": true
   },
   "outputs": [],
   "source": [
    "variable_name = []\n",
    "variable_score = []\n",
    "variable_std = []\n",
    "for f, imp, mystd in zip(features, model.feature_importances_, std):\n",
    "    variable_name.append(f)\n",
    "    variable_score.append(imp)\n",
    "    variable_std.append(mystd)\n",
    "    \n",
    "index = range(len(variable_name))\n",
    "d = {\n",
    "    'Variable_Name': variable_name, \n",
    "    'Variable_Score': variable_score,\n",
    "    'Variable_Std': variable_std\n",
    "    }\n",
    "variable_importance_df = DataFrame(data=d, index=index)\n",
    "variable_importance_df = variable_importance_df.sort_values(by = 'Variable_Score', ascending=False)\n",
    "variable_importance_TOP10_df = variable_importance_df.head(10)\n",
    "variable_importance_TOP10_df"
   ]
  },
  {
   "cell_type": "markdown",
   "metadata": {
    "deletable": true,
    "editable": true
   },
   "source": [
    "<font color=\"#5A5A5A\" size=\"3.2\" face = \"Lano\">\n",
    "From this 10 dataframe lines we create a plot showing well the importance of each variable one against the other.\n",
    "</font>"
   ]
  },
  {
   "cell_type": "code",
   "execution_count": null,
   "metadata": {
    "collapsed": false,
    "deletable": true,
    "editable": true
   },
   "outputs": [],
   "source": [
    "# Plot the feature importances of the RF\n",
    "plt.figure()\n",
    "plt.title(\"Feature importances\")\n",
    "plt.bar(\n",
    "        range(len(variable_importance_TOP10_df)), \n",
    "        np.array(variable_importance_TOP10_df['Variable_Score']), \n",
    "        color=\"r\", \n",
    "        yerr=np.array(variable_importance_TOP10_df['Variable_Std']), \n",
    "        align=\"center\",\n",
    "        width=0.5\n",
    "       )\n",
    "plt.xticks(\n",
    "            range(len(variable_importance_TOP10_df)), \n",
    "            np.array(variable_importance_TOP10_df['Variable_Name']),\n",
    "            fontsize=9\n",
    "          )\n",
    "plt.xlim([-1, len(variable_importance_TOP10_df)])\n",
    "plt.show()"
   ]
  },
  {
   "cell_type": "markdown",
   "metadata": {
    "deletable": true,
    "editable": true
   },
   "source": [
    "<font color=\"#5A5A5A\" size=\"3.2\" face = \"Lano\">\n",
    "Now we can calculate our score prediction only according to the 10 most important features.<br>\n",
    "We process to a new bootstrap in order to visualize the progression on a new random data train.<br>\n",
    "The 'confusion matrix' is a square matrix whose diagonal (top left to bottom right) represents the number of values correctly predicted.<br>\n",
    "In the same way, metrics.accuracy_score will calculate a prediction score.<br>\n",
    "</font>"
   ]
  },
  {
   "cell_type": "code",
   "execution_count": null,
   "metadata": {
    "collapsed": false,
    "deletable": true,
    "editable": true
   },
   "outputs": [],
   "source": [
    "import sklearn\n",
    "\n",
    "features_TOP10 = np.array(variable_importance_TOP10_df['Variable_Name'])\n",
    "predictors = poisoning_df[features_TOP10]\n",
    "split = train_test_split(poisoning_df, target, test_size=0.4, random_state=42)\n",
    "data_train, data_test, target_train, target_test = split\n",
    "\n",
    "model = RandomForest(n_estimators=10)\n",
    "model.fit(data_train[features_TOP10], target_train)\n",
    "prediction = model.predict(data_test[features_TOP10])\n",
    "\n",
    "print(\"Confusion matrix:\\n\", sklearn.metrics.confusion_matrix(target_test, prediction))\n",
    "print(\"\\nThe score:\\n\", model.score(data_test[features_TOP10], target_test))"
   ]
  },
  {
   "cell_type": "markdown",
   "metadata": {
    "collapsed": true,
    "deletable": true,
    "editable": true
   },
   "source": [
    "<font color=\"#5A5A5A\" size=\"3.2\" face = \"Lano\">\n",
    "From now our work will be to improve this pretty good score.<br> \n",
    "We will use get_features_importance function created in student notebook doing almost what we have done above and improve it returning an array composed of a dataframe and a score.\n",
    "</font>"
   ]
  },
  {
   "cell_type": "code",
   "execution_count": null,
   "metadata": {
    "collapsed": false,
    "deletable": true,
    "editable": true
   },
   "outputs": [],
   "source": [
    "def get_features_importance(arg_dataframe, arg_columntarget, arg_features, arg_topNumber):\n",
    "  \n",
    "  predictors = arg_dataframe[arg_features]#student_df[arg_features]\n",
    "  target = arg_columntarget#student_df.Global_Marks\n",
    "\n",
    "  split = train_test_split(arg_dataframe, target, test_size=0.4, random_state=42)\n",
    "  data_train, data_test, target_train, target_test = split\n",
    "\n",
    "  model = RandomForest(n_estimators=10)\n",
    "  model.fit(data_train[arg_features], target_train)\n",
    "  importances = model.feature_importances_\n",
    "  std = np.std([tree.feature_importances_ for tree in model.estimators_], axis=0)\n",
    "    \n",
    "  variable_name = []\n",
    "  variable_score = []\n",
    "  variable_std = []\n",
    "  for f, imp, mystd in zip(arg_features, model.feature_importances_, std):\n",
    "    variable_name.append(f)\n",
    "    variable_score.append(imp)\n",
    "    variable_std.append(mystd)\n",
    "    \n",
    "  index = range(len(variable_name))\n",
    "  d = {\n",
    "    'Variable_Name': variable_name, \n",
    "    'Variable_Score': variable_score,\n",
    "    'Variable_Std': variable_std\n",
    "  }\n",
    "  variable_importance_df = DataFrame(data=d, index=index)\n",
    "  variable_importance_df = variable_importance_df.sort_values(by = 'Variable_Score', ascending=False)\n",
    "  variable_importance_TOP_df = variable_importance_df.head(arg_topNumber)\n",
    "\n",
    "  features_TOP = np.array(variable_importance_TOP_df['Variable_Name'])\n",
    "  predictors = arg_dataframe[features_TOP]\n",
    "\n",
    "  model = RandomForest(n_estimators=10)\n",
    "  model.fit(data_train[features_TOP], target_train)\n",
    "  prediction = model.predict(data_test[features_TOP])\n",
    "\n",
    "  TOP_score = model.score(data_test[features_TOP], target_test)\n",
    "    \n",
    "  resultArray = [variable_importance_TOP_df, TOP_score]\n",
    "\n",
    "  return(resultArray)\n",
    "###END FUNCTION###"
   ]
  },
  {
   "cell_type": "markdown",
   "metadata": {
    "deletable": true,
    "editable": true
   },
   "source": [
    "<font color=\"#5A5A5A\" size=\"3.2\" face = \"Lano\">\n",
    "An idea I had in order to improve my score was to create 3 new columns.<br>\n",
    "\"Sea\" composed of fish, oysters etc.<br>\n",
    "A second \"Vegetable\" column and another one named \"Meat\".\n",
    "</font>"
   ]
  },
  {
   "cell_type": "code",
   "execution_count": null,
   "metadata": {
    "collapsed": true,
    "deletable": true,
    "editable": true
   },
   "outputs": [],
   "source": [
    "def sea_food(df):\n",
    "  oysters = df.isOysters\n",
    "  fish = df.isFish\n",
    "  tuna = df.isTuna\n",
    "  sushi = df.isSushi\n",
    "  if (oysters == 1) | (fish == 1) | (tuna == 1) | (sushi == 1):\n",
    "    return 1\n",
    "  else:\n",
    "    return 0\n",
    "  \n",
    "poisoning_df[\"Sea\"] = poisoning_df.apply(sea_food, axis=1)"
   ]
  },
  {
   "cell_type": "code",
   "execution_count": null,
   "metadata": {
    "collapsed": true,
    "deletable": true,
    "editable": true
   },
   "outputs": [],
   "source": [
    "def vegetable_food(df):\n",
    "  salad = df.isSalad\n",
    "  potato = df.isPotato\n",
    "  beans = df.isBeans\n",
    "  coleslaw = df.isColeslaw\n",
    "  cantaloupe = df.isCantaloupe\n",
    "  guacamole = df.isGuacamole\n",
    "  tomato = df.isTomato\n",
    "  lettuce = df.isLettuce\n",
    "  mushrooms = df.isMushrooms\n",
    "  if ((salad == 1) | (potato == 1) | (beans == 1) | (coleslaw == 1) \n",
    "      | (cantaloupe == 1) | (guacamole == 1) | (tomato == 1) | \n",
    "      (lettuce == 1)| (mushrooms == 1)):\n",
    "    return 1\n",
    "  else:\n",
    "    return 0\n",
    "\n",
    "poisoning_df[\"Vegetable\"] = poisoning_df.apply(vegetable_food, axis=1)"
   ]
  },
  {
   "cell_type": "code",
   "execution_count": null,
   "metadata": {
    "collapsed": true,
    "deletable": true,
    "editable": true
   },
   "outputs": [],
   "source": [
    "def meat_food(df):\n",
    "  pork = df.isPork\n",
    "  chicken = df.isChicken\n",
    "  bbq = df.isBbq\n",
    "  deli = df.isDeli\n",
    "  meat = df.isMeat\n",
    "  beef = df.isBeef\n",
    "  cheeseburger = df.isCheeseburger\n",
    "  ham = df.isHam\n",
    "  if ((pork == 1) | (chicken == 1) | (bbq == 1) | (deli == 1) \n",
    "      | (meat == 1) | (beef == 1) | (cheeseburger == 1) | (ham == 1)):\n",
    "    return 1\n",
    "  else:\n",
    "    return 0\n",
    "\n",
    "poisoning_df[\"Meat\"] = poisoning_df.apply(meat_food, axis=1)"
   ]
  },
  {
   "cell_type": "markdown",
   "metadata": {
    "deletable": true,
    "editable": true
   },
   "source": [
    "<font color=\"#5A5A5A\" size=\"3.2\" face = \"Lano\">\n",
    "Now we can add those 3 columns to our features.\n",
    "</font>"
   ]
  },
  {
   "cell_type": "code",
   "execution_count": null,
   "metadata": {
    "collapsed": false,
    "deletable": true,
    "editable": true
   },
   "outputs": [],
   "source": [
    "#Be careful to not run this cell two times.\n",
    "newfeatures1 = []\n",
    "newfeatures1 = features\n",
    "newfeatures1.append(\"Sea\")\n",
    "newfeatures1.append(\"Vegetable\")\n",
    "newfeatures1.append(\"Meat\")"
   ]
  },
  {
   "cell_type": "markdown",
   "metadata": {
    "deletable": true,
    "editable": true
   },
   "source": [
    "<font color=\"#5A5A5A\" size=\"3.2\" face = \"Lano\">\n",
    "And use our magic function taking new features as argument.\n",
    "</font>"
   ]
  },
  {
   "cell_type": "code",
   "execution_count": null,
   "metadata": {
    "collapsed": false,
    "deletable": true,
    "editable": true
   },
   "outputs": [],
   "source": [
    "RF_result = get_features_importance(poisoning_df, poisoning_df.Hospitalizations_Global, newfeatures1, 10)\n",
    "print(\"Global score:\", RF_result[1])\n",
    "RF_result[0]"
   ]
  },
  {
   "cell_type": "markdown",
   "metadata": {
    "deletable": true,
    "editable": true
   },
   "source": [
    "<font color=\"#5A5A5A\" size=\"3.2\" face = \"Lano\">\n",
    "Another idea I had was to create a column highlighting the person who have eaten fish in a state which don't border the sea meaning that the fish was imported.\n",
    "</font>"
   ]
  },
  {
   "cell_type": "code",
   "execution_count": null,
   "metadata": {
    "collapsed": true,
    "deletable": true,
    "editable": true
   },
   "outputs": [],
   "source": [
    "def imported_fish(df):\n",
    "  fish = df.isFish\n",
    "  fishingstate = df.FishingState\n",
    "  if (fish == 1) & (fishingstate == 0):\n",
    "    return 1\n",
    "  else:\n",
    "    return 0\n",
    "\n",
    "poisoning_df[\"Eat_Imported_Fish\"] = poisoning_df.apply(imported_fish, axis=1)"
   ]
  },
  {
   "cell_type": "code",
   "execution_count": null,
   "metadata": {
    "collapsed": true,
    "deletable": true,
    "editable": true
   },
   "outputs": [],
   "source": [
    "#Be careful to not run this cell two times.\n",
    "newfeatures2 = []\n",
    "newfeatures2 = newfeatures1\n",
    "newfeatures2.append(\"Eat_Imported_Fish\")"
   ]
  },
  {
   "cell_type": "code",
   "execution_count": null,
   "metadata": {
    "collapsed": false,
    "deletable": true,
    "editable": true
   },
   "outputs": [],
   "source": [
    "RF_result = get_features_importance(poisoning_df, poisoning_df.Hospitalizations_Global, newfeatures2, 10)\n",
    "print(\"Global score:\", RF_result[1])\n",
    "RF_result[0]"
   ]
  },
  {
   "cell_type": "markdown",
   "metadata": {
    "deletable": true,
    "editable": true
   },
   "source": [
    "<font color=\"#5A5A5A\" size=\"3.2\" face = \"Lano\">\n",
    "Unfortunately, this time my idea was not as good as I hoped because the new feature is not in the top 10.<br>\n",
    "Nevertheless, the score is pretty good for data which was unworkable some cells ago.<br><br>\n",
    "So with random forest we have succeeded a prediction improvement which finally reach a score of almost 75%, only using pandas skills and from only two \"dirty\" columns.\n",
    "</font>"
   ]
  },
  {
   "cell_type": "markdown",
   "metadata": {
    "deletable": true,
    "editable": true
   },
   "source": [
    "<font size=4 color =\"#5A5A5A\" face = \"Lano\"><b><font size=4 color=\"#FCAC45\" face = \"Lano\">II. B -</font> Decision Tree</b></font>\n",
    "<br>\n",
    "<br>\n",
    "<font color=\"#5A5A5A\" size=\"3.2\" face = \"Lano\">\n",
    "There is a legend saying that it is very dangerous to eat oysters in a restaurant.<br>\n",
    "So I decided to create a decision tree taking into acount those two features.\n",
    "</font>"
   ]
  },
  {
   "cell_type": "code",
   "execution_count": null,
   "metadata": {
    "collapsed": false,
    "deletable": true,
    "editable": true
   },
   "outputs": [],
   "source": [
    "# Need 'brew install graphviz' on terminal for MacOSX\n",
    "# Or ‘sudo apt-get install graphviz’ for Linux\n",
    "from sklearn.tree import DecisionTreeClassifier\n",
    "from sklearn import tree\n",
    "from io import StringIO\n",
    "from IPython.display import Image\n",
    "import pydotplus\n",
    "\n",
    "#make classifier with our main feature\n",
    "main_feature = [\"isRestaurant\", \"isOysters\"]\n",
    "features = main_feature\n",
    "predictors = poisoning_df[features]\n",
    "pred_train, pred_test, tar_train, tar_test = train_test_split(predictors, target, test_size=.4)\n",
    "classifier = DecisionTreeClassifier(min_samples_split=20, random_state=10)\n",
    "classifier = classifier.fit(pred_train, tar_train)\n",
    "\n",
    "#Draw\n",
    "print(\"Features:\", main_feature)\n",
    "print(\"Features: ['X[0]', 'X[1]']\")\n",
    "out = StringIO()\n",
    "tree.export_graphviz(classifier, out_file=out)\n",
    "graph=pydotplus.graph_from_dot_data(out.getvalue())\n",
    "Image(graph.create_png())"
   ]
  },
  {
   "cell_type": "markdown",
   "metadata": {
    "deletable": true,
    "editable": true
   },
   "source": [
    "<font color=\"#5A5A5A\" size=\"3.2\" face = \"Lano\">\n",
    "Because of the bootstrap it's difficult to analyse the decision tree with you. <br>\n",
    "But you can see that the lower \"value\" list represents those who ate oysters.<br>\n",
    "Normally, in the last line, on the second box from the left there is those who ate oysters in at home and everywhere else than in a restaurant and on the last box those who ate oysters in a Restaurant.<br>\n",
    "You can see that proportion show a bigger danger when you eat oysters at home meaning the legend is true...<br>\n",
    "<br>\n",
    "<font size=4 color=\"#FCAC45\" face = \"Lano\"><b>•</b></font> This is all for this study. I hope you enjoyed it and you will continue to <font size=4 color=\"#FCAC45\" face = \"Lano\"><b>eat</b></font> everything everywhere.\n",
    "</font>"
   ]
  }
 ],
 "metadata": {
  "kernelspec": {
   "display_name": "Python 3",
   "language": "python",
   "name": "python3"
  },
  "language_info": {
   "codemirror_mode": {
    "name": "ipython",
    "version": 3
   },
   "file_extension": ".py",
   "mimetype": "text/x-python",
   "name": "python",
   "nbconvert_exporter": "python",
   "pygments_lexer": "ipython3",
   "version": "3.6.0"
  }
 },
 "nbformat": 4,
 "nbformat_minor": 2
}
